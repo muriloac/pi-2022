{
 "cells": [
  {
   "cell_type": "code",
   "execution_count": 1,
   "outputs": [
    {
     "name": "stdout",
     "output_type": "stream",
     "text": [
      "env: TWITTER_BEARER_TOKEN=TOKENAQUI\n"
     ]
    }
   ],
   "source": [
    "%env TWITTER_BEARER_TOKEN=TOKENAQUI"
   ],
   "metadata": {
    "collapsed": false,
    "pycharm": {
     "name": "#%%\n"
    }
   }
  },
  {
   "cell_type": "code",
   "execution_count": 9,
   "outputs": [],
   "source": [
    "import os\n",
    "\n",
    "from scrapper import TwitterClient\n",
    "from writer import Writer\n",
    "from datetime import datetime\n",
    "from cleaner import Cleaner\n",
    "from analyzer import Analyzer"
   ],
   "metadata": {
    "collapsed": false,
    "pycharm": {
     "name": "#%%\n"
    }
   }
  },
  {
   "cell_type": "code",
   "execution_count": 10,
   "outputs": [],
   "source": [
    "twitter_client = TwitterClient(bearer_token=os.getenv('TWITTER_BEARER_TOKEN'))\n",
    "tweets_search = twitter_client.get_recent_tweets_by_subject_with_pagination(subject=\"tbt\",\n",
    "                                                                            query_params=\"-is:retweet -is:quote -is:reply\",\n",
    "                                                                            max_results=1000)"
   ],
   "metadata": {
    "collapsed": false,
    "pycharm": {
     "name": "#%%\n"
    }
   }
  },
  {
   "cell_type": "code",
   "execution_count": 11,
   "outputs": [],
   "source": [
    "all_tweets = []\n",
    "for tweet in tweets_search:\n",
    "    all_tweets.append(tweet)"
   ],
   "metadata": {
    "collapsed": false,
    "pycharm": {
     "name": "#%%\n"
    }
   }
  },
  {
   "cell_type": "code",
   "execution_count": 12,
   "outputs": [],
   "source": [
    "writer_tweets_json = Writer(file_name=f'tweets-{datetime.now().strftime(\"%Y-%m-%d\")}.json',\n",
    "                            output_dir=f\"./output/tweets\")\n",
    "\n",
    "writer_tweets_json.write([tweet.data for tweet in all_tweets])"
   ],
   "metadata": {
    "collapsed": false,
    "pycharm": {
     "name": "#%%\n"
    }
   }
  },
  {
   "cell_type": "code",
   "execution_count": 13,
   "outputs": [],
   "source": [
    "cleaner = Cleaner(all_tweets)\n",
    "tweets_parcial_clean = cleaner.partial_clean()"
   ],
   "metadata": {
    "collapsed": false,
    "pycharm": {
     "name": "#%%\n"
    }
   }
  },
  {
   "cell_type": "code",
   "execution_count": 14,
   "outputs": [],
   "source": [
    "analyzer = Analyzer(tweets_parcial_clean)\n",
    "analyzer.generate_sentiment_by_tweet()\n",
    "analyzer.populate_geo_info()\n",
    "analyzer.save_df()"
   ],
   "metadata": {
    "collapsed": false,
    "pycharm": {
     "name": "#%%\n"
    }
   }
  },
  {
   "cell_type": "code",
   "execution_count": 16,
   "outputs": [],
   "source": [
    "tweets_clean = cleaner.clean()\n",
    "writer_tweets_clean_json = Writer(file_name=f'tweets-{datetime.now().strftime(\"%Y-%m-%d\")}.json',\n",
    "                                  output_dir=f\"./output/tweets/clean\")\n",
    "\n",
    "writer_tweets_clean_json.write([tweet.data for tweet in tweets_clean])\n"
   ],
   "metadata": {
    "collapsed": false,
    "pycharm": {
     "name": "#%%\n"
    }
   }
  }
 ],
 "metadata": {
  "kernelspec": {
   "display_name": "Python 3",
   "language": "python",
   "name": "python3"
  },
  "language_info": {
   "codemirror_mode": {
    "name": "ipython",
    "version": 2
   },
   "file_extension": ".py",
   "mimetype": "text/x-python",
   "name": "python",
   "nbconvert_exporter": "python",
   "pygments_lexer": "ipython2",
   "version": "2.7.6"
  }
 },
 "nbformat": 4,
 "nbformat_minor": 0
}