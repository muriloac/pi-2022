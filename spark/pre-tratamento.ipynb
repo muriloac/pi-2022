{
 "cells": [
  {
   "cell_type": "code",
   "execution_count": 37,
   "metadata": {
    "collapsed": true,
    "pycharm": {
     "name": "#%%\n"
    }
   },
   "outputs": [],
   "source": [
    "from pyspark import SparkConf\n",
    "from pyspark.sql import SparkSession\n",
    "from estados import estados_brasileiros\n",
    "from functools import reduce\n",
    "import unicodedata"
   ]
  },
  {
   "cell_type": "code",
   "execution_count": 38,
   "outputs": [],
   "source": [
    "conf = SparkConf()\n",
    "spark = SparkSession.builder.config(conf=conf).getOrCreate()"
   ],
   "metadata": {
    "collapsed": false,
    "pycharm": {
     "name": "#%%\n"
    }
   }
  },
  {
   "cell_type": "code",
   "execution_count": 39,
   "outputs": [],
   "source": [
    "dfTweets = spark.read.csv(\"../twitter/output/tweets_analysis/tweets-analisados-2022-06-06.csv\", header=True,\n",
    "                          inferSchema=True)"
   ],
   "metadata": {
    "collapsed": false,
    "pycharm": {
     "name": "#%%\n"
    }
   }
  },
  {
   "cell_type": "code",
   "execution_count": 40,
   "outputs": [],
   "source": [
    "dfTweetsTratado = dfTweets.filter(dfTweets.len > 5)"
   ],
   "metadata": {
    "collapsed": false,
    "pycharm": {
     "name": "#%%\n"
    }
   }
  },
  {
   "cell_type": "code",
   "execution_count": 41,
   "outputs": [],
   "source": [
    "dfTweetsTratado.coalesce(1).write.option(\"header\", True).csv(\"./tmp/spark_output/datacsv/tweets\", emptyValue='')"
   ],
   "metadata": {
    "collapsed": false,
    "pycharm": {
     "name": "#%%\n"
    }
   }
  },
  {
   "cell_type": "code",
   "execution_count": 42,
   "outputs": [],
   "source": [
    "dfEnem = spark.read.option('delimiter', ';').option(\"encoding\", \"ISO-8859-1\").csv(\"./bases/MICRODADOS_ENEM_2019.csv\",\n",
    "                                                                                  header=True, inferSchema=True)"
   ],
   "metadata": {
    "collapsed": false,
    "pycharm": {
     "name": "#%%\n"
    }
   }
  },
  {
   "cell_type": "code",
   "execution_count": 43,
   "outputs": [],
   "source": [
    "# Criar Sample\n",
    "# dfEnemSample = dfEnem.sample(0.1, seed=69420)"
   ],
   "metadata": {
    "collapsed": false,
    "pycharm": {
     "name": "#%%\n"
    }
   }
  },
  {
   "cell_type": "code",
   "execution_count": 44,
   "outputs": [],
   "source": [
    "# dfEnemSample.coalesce(1).write.option(\"header\",True).csv(\"./tmp/spark_output/datacsv/enem\", emptyValue='')"
   ],
   "metadata": {
    "collapsed": false,
    "pycharm": {
     "name": "#%%\n"
    }
   }
  },
  {
   "cell_type": "code",
   "execution_count": 45,
   "outputs": [],
   "source": [
    "dfEnemEstadosTratados = dfEnem.na.replace(to_replace=estados_brasileiros)"
   ],
   "metadata": {
    "collapsed": false,
    "pycharm": {
     "name": "#%%\n"
    }
   }
  },
  {
   "cell_type": "code",
   "execution_count": 46,
   "outputs": [],
   "source": [
    "dfEnemTratado = dfEnemEstadosTratados.selectExpr(\"IN_TREINEIRO as Treineiro\",\n",
    "                                                 \"SG_UF_PROVA as Estado\",\n",
    "                                                 \"TP_PRESENCA_CN as Presenca_CN\",\n",
    "                                                 \"TP_PRESENCA_CH as Presenca_CH\",\n",
    "                                                 \"TP_PRESENCA_LC as Presenca_LC\",\n",
    "                                                 \"TP_PRESENCA_MT as Presenca_MT\",\n",
    "                                                 \"NU_NOTA_CN as Nota_CN\",\n",
    "                                                 \"NU_NOTA_CH as Nota_CH\",\n",
    "                                                 \"NU_NOTA_LC as Nota_LC\",\n",
    "                                                 \"NU_NOTA_MT as Nota_MT\",\n",
    "                                                 \"TP_STATUS_REDACAO as Status_Redacao\",\n",
    "                                                 \"NU_NOTA_REDACAO as Nota_Redacao\")"
   ],
   "metadata": {
    "collapsed": false,
    "pycharm": {
     "name": "#%%\n"
    }
   }
  },
  {
   "cell_type": "code",
   "execution_count": 47,
   "outputs": [],
   "source": [
    "dfEnemTratadoSample = dfEnemTratado.sample(0.1, seed=69420)"
   ],
   "metadata": {
    "collapsed": false,
    "pycharm": {
     "name": "#%%\n"
    }
   }
  },
  {
   "cell_type": "code",
   "execution_count": 48,
   "outputs": [],
   "source": [
    "dfEnemTratadoSample.coalesce(1).write.option(\"header\", True).csv(\"./tmp/spark_output/datacsv/enem\", emptyValue='')"
   ],
   "metadata": {
    "collapsed": false,
    "pycharm": {
     "name": "#%%\n"
    }
   }
  },
  {
   "cell_type": "code",
   "execution_count": 101,
   "outputs": [],
   "source": [
    "dfIDD = spark.read.json(\"./bases/IDD_2019.json\", multiLine=True)\n",
    "dfIDD = dfIDD.fillna(0) # This is the number 0\n",
    "dfIDDEstadosTratados = dfIDD.na.replace(to_replace=estados_brasileiros)"
   ],
   "metadata": {
    "collapsed": false,
    "pycharm": {
     "name": "#%%\n"
    }
   }
  },
  {
   "cell_type": "code",
   "execution_count": 102,
   "outputs": [],
   "source": [
    "colunas = dfIDDEstadosTratados.columns\n",
    "novas_colunas = list(map(lambda item: unicodedata.normalize('NFKD', item.replace(\"(\", \"\").replace(\")\", \"\").replace(\"-\",\n",
    "                                                                                                                   \"\").replace(\n",
    "    \" \", \"_\").upper()).encode('ascii', 'ignore').decode('utf-8', 'ignore'), colunas))\n",
    "dfIDDComNovasColunas = reduce(lambda data, idx: data.withColumnRenamed(colunas[idx], novas_colunas[idx]),\n",
    "                              range(len(colunas)), dfIDDEstadosTratados)"
   ],
   "metadata": {
    "collapsed": false,
    "pycharm": {
     "name": "#%%\n"
    }
   }
  },
  {
   "cell_type": "code",
   "execution_count": 103,
   "outputs": [],
   "source": [
    "dfIDDTratado = dfIDDComNovasColunas.selectExpr(\"IDD_CONTINUO as IDD_Continuo\",\n",
    "                                                           \"IDD_FAIXA as IDD_Faixa\",\n",
    "                                                           \"NOTA_BRUTA__IDD as Nota_Bruta_IDD\",\n",
    "                                                           \"SIGLA_DA_UF as Estado_Curso\",\n",
    "                                                           \"NOME_DA_IES as Instituicao_Ensino\",\n",
    "                                                           \"No_DE_CONCLUINTES_INSCRITOS as Concluintes_Inscritos\",\n",
    "                                                           \"No_DE_CONCLUINTES_PARTICIPANTES as Concluintes_Participantes\",\n",
    "                                                           \"No_DE_CONCLUINTES_PARTICIPANTES_COM_NOTA_NO_ENEM as Concluintes_Participantes_Nota_Enem\",\n",
    "                                                           \"PROPORCAO_DE_CONCLUINTES_PARTICIPANTES_COM_NOTA_NO_ENEM as Prop_Concluintes_Participantes_Nota_Enem_IDD\",\n",
    "                                                           \"AREA_DE_AVALIACAO as Curso\")"
   ],
   "metadata": {
    "collapsed": false,
    "pycharm": {
     "name": "#%%\n"
    }
   }
  },
  {
   "cell_type": "code",
   "execution_count": 105,
   "outputs": [],
   "source": [
    "dfIDDTratado.coalesce(1).write.option(\"header\", True).csv(\"./tmp/spark_output/datacsv/idd\", emptyValue='')\n"
   ],
   "metadata": {
    "collapsed": false,
    "pycharm": {
     "name": "#%%\n"
    }
   }
  }
 ],
 "metadata": {
  "kernelspec": {
   "display_name": "Python 3",
   "language": "python",
   "name": "python3"
  },
  "language_info": {
   "codemirror_mode": {
    "name": "ipython",
    "version": 2
   },
   "file_extension": ".py",
   "mimetype": "text/x-python",
   "name": "python",
   "nbconvert_exporter": "python",
   "pygments_lexer": "ipython2",
   "version": "2.7.6"
  }
 },
 "nbformat": 4,
 "nbformat_minor": 0
}