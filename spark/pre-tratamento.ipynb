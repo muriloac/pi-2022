{
 "cells": [
  {
   "cell_type": "code",
   "execution_count": 15,
   "metadata": {
    "collapsed": true,
    "pycharm": {
     "name": "#%%\n"
    }
   },
   "outputs": [],
   "source": [
    "from pyspark import SparkConf\n",
    "from pyspark.sql import SparkSession\n",
    "from estados import estados_brasileiros\n",
    "from functools import reduce\n",
    "import unicodedata\n",
    "from pyspark.sql.functions import col"
   ]
  },
  {
   "cell_type": "code",
   "execution_count": 3,
   "metadata": {
    "collapsed": false,
    "pycharm": {
     "name": "#%%\n"
    }
   },
   "outputs": [
    {
     "name": "stderr",
     "output_type": "stream",
     "text": [
      "WARNING: An illegal reflective access operation has occurred\n",
      "WARNING: Illegal reflective access by org.apache.spark.unsafe.Platform (file:/usr/local/lib/python3.7/site-packages/pyspark/jars/spark-unsafe_2.12-3.2.1.jar) to constructor java.nio.DirectByteBuffer(long,int)\n",
      "WARNING: Please consider reporting this to the maintainers of org.apache.spark.unsafe.Platform\n",
      "WARNING: Use --illegal-access=warn to enable warnings of further illegal reflective access operations\n",
      "WARNING: All illegal access operations will be denied in a future release\n"
     ]
    },
    {
     "name": "stdout",
     "output_type": "stream",
     "text": [
      ":: loading settings :: url = jar:file:/usr/local/lib/python3.7/site-packages/pyspark/jars/ivy-2.5.0.jar!/org/apache/ivy/core/settings/ivysettings.xml\n"
     ]
    },
    {
     "name": "stderr",
     "output_type": "stream",
     "text": [
      "Ivy Default Cache set to: /home/ec2-user/.ivy2/cache\n",
      "The jars for the packages stored in: /home/ec2-user/.ivy2/jars\n",
      "org.apache.hadoop#hadoop-aws added as a dependency\n",
      ":: resolving dependencies :: org.apache.spark#spark-submit-parent-f79ba3a8-18b9-4ee7-9a22-b53d246bfe88;1.0\n",
      "\tconfs: [default]\n",
      "\tfound org.apache.hadoop#hadoop-aws;3.2.2 in central\n",
      "\tfound com.amazonaws#aws-java-sdk-bundle;1.11.563 in central\n",
      ":: resolution report :: resolve 448ms :: artifacts dl 16ms\n",
      "\t:: modules in use:\n",
      "\tcom.amazonaws#aws-java-sdk-bundle;1.11.563 from central in [default]\n",
      "\torg.apache.hadoop#hadoop-aws;3.2.2 from central in [default]\n",
      "\t---------------------------------------------------------------------\n",
      "\t|                  |            modules            ||   artifacts   |\n",
      "\t|       conf       | number| search|dwnlded|evicted|| number|dwnlded|\n",
      "\t---------------------------------------------------------------------\n",
      "\t|      default     |   2   |   0   |   0   |   0   ||   2   |   0   |\n",
      "\t---------------------------------------------------------------------\n",
      ":: retrieving :: org.apache.spark#spark-submit-parent-f79ba3a8-18b9-4ee7-9a22-b53d246bfe88\n",
      "\tconfs: [default]\n",
      "\t0 artifacts copied, 2 already retrieved (0kB/7ms)\n",
      "22/06/08 01:30:20 WARN NativeCodeLoader: Unable to load native-hadoop library for your platform... using builtin-java classes where applicable\n",
      "Using Spark's default log4j profile: org/apache/spark/log4j-defaults.properties\n",
      "Setting default log level to \"WARN\".\n",
      "To adjust logging level use sc.setLogLevel(newLevel). For SparkR, use setLogLevel(newLevel).\n"
     ]
    }
   ],
   "source": [
    "conf = SparkConf()\n",
    "conf.set('spark.jars.packages', 'org.apache.hadoop:hadoop-aws:3.2.2')\n",
    "# conf.set('spark.jars.packages', 'org.apache.hadoop:hadoop-aws:3.2.2,com.microsoft.azure:spark-mssql-connector_2.12:1.2.0')\n",
    "conf.set('spark.hadoop.fs.s3a.aws.credentials.provider', 'com.amazonaws.auth.InstanceProfileCredentialsProvider')\n",
    "spark = SparkSession.builder.config(conf=conf).getOrCreate()"
   ]
  },
  {
   "cell_type": "code",
   "execution_count": 22,
   "metadata": {
    "collapsed": false,
    "pycharm": {
     "name": "#%%\n"
    }
   },
   "outputs": [],
   "source": [
    "dfTweets = spark.read.csv(\"s3a://cf-murilo-pi-2022-01-sptech-bucket-bruto/tweets-analisados-2022-06-07.csv\", header=True,\n",
    "                          inferSchema=True)"
   ]
  },
  {
   "cell_type": "code",
   "execution_count": 23,
   "metadata": {
    "collapsed": false,
    "pycharm": {
     "name": "#%%\n"
    }
   },
   "outputs": [],
   "source": [
    "dfTweetsTratado = dfTweets.filter(dfTweets.len > 5)"
   ]
  },
  {
   "cell_type": "code",
   "execution_count": 24,
   "metadata": {
    "collapsed": false,
    "pycharm": {
     "name": "#%%\n"
    }
   },
   "outputs": [
    {
     "name": "stderr",
     "output_type": "stream",
     "text": [
      "22/06/08 01:49:46 WARN AbstractS3ACommitterFactory: Using standard FileOutputCommitter to commit work. This is slow and potentially unsafe.\n",
      "22/06/08 01:49:46 WARN AbstractS3ACommitterFactory: Using standard FileOutputCommitter to commit work. This is slow and potentially unsafe.\n",
      "                                                                                \r"
     ]
    }
   ],
   "source": [
    "dfTweetsTratado.coalesce(1).write.mode('overwrite').option(\"header\", True).csv(\"s3a://cf-murilo-pi-2022-01-sptech-bucket-tratados/tweets\", emptyValue='')"
   ]
  },
  {
   "cell_type": "code",
   "execution_count": 25,
   "metadata": {
    "collapsed": false,
    "pycharm": {
     "name": "#%%\n"
    }
   },
   "outputs": [
    {
     "name": "stderr",
     "output_type": "stream",
     "text": [
      "                                                                                \r"
     ]
    }
   ],
   "source": [
    "dfEnem = spark.read.option('delimiter', ',').option(\"encoding\", \"ISO-8859-1\").csv(\"s3a://cf-murilo-pi-2022-01-sptech-bucket-bruto/enem-sample-bruto.csv\",\n",
    "                                                                                  header=True, inferSchema=True)"
   ]
  },
  {
   "cell_type": "code",
   "execution_count": 12,
   "metadata": {
    "collapsed": false,
    "pycharm": {
     "name": "#%%\n"
    }
   },
   "outputs": [],
   "source": [
    "# Criar Sample\n",
    "# dfEnemSample = dfEnem.sample(0.1, seed=69420)"
   ]
  },
  {
   "cell_type": "code",
   "execution_count": 13,
   "metadata": {
    "collapsed": false,
    "pycharm": {
     "name": "#%%\n"
    }
   },
   "outputs": [],
   "source": [
    "# dfEnemSample.coalesce(1).write.option(\"header\",True).csv(\"./tmp/spark_output/datacsv/enem\", emptyValue='')"
   ]
  },
  {
   "cell_type": "code",
   "execution_count": 26,
   "metadata": {
    "collapsed": false,
    "pycharm": {
     "name": "#%%\n"
    }
   },
   "outputs": [],
   "source": [
    "dfEnemEstadosTratados = dfEnem.na.replace(to_replace=estados_brasileiros)"
   ]
  },
  {
   "cell_type": "code",
   "execution_count": 27,
   "metadata": {
    "collapsed": false,
    "pycharm": {
     "name": "#%%\n"
    }
   },
   "outputs": [],
   "source": [
    "dfEnemTratado = dfEnemEstadosTratados.selectExpr(\"IN_TREINEIRO as Treineiro\",\n",
    "                                                 \"SG_UF_PROVA as Estado\",\n",
    "                                                 \"TP_PRESENCA_CN as Presenca_CN\",\n",
    "                                                 \"TP_PRESENCA_CH as Presenca_CH\",\n",
    "                                                 \"TP_PRESENCA_LC as Presenca_LC\",\n",
    "                                                 \"TP_PRESENCA_MT as Presenca_MT\",\n",
    "                                                 \"NU_NOTA_CN as Nota_CN\",\n",
    "                                                 \"NU_NOTA_CH as Nota_CH\",\n",
    "                                                 \"NU_NOTA_LC as Nota_LC\",\n",
    "                                                 \"NU_NOTA_MT as Nota_MT\",\n",
    "                                                 \"TP_STATUS_REDACAO as Status_Redacao\",\n",
    "                                                 \"NU_NOTA_REDACAO as Nota_Redacao\")"
   ]
  },
  {
   "cell_type": "code",
   "execution_count": 28,
   "metadata": {
    "collapsed": false,
    "pycharm": {
     "name": "#%%\n"
    }
   },
   "outputs": [
    {
     "name": "stderr",
     "output_type": "stream",
     "text": [
      "22/06/08 01:50:07 WARN AbstractS3ACommitterFactory: Using standard FileOutputCommitter to commit work. This is slow and potentially unsafe.\n",
      "22/06/08 01:50:08 WARN AbstractS3ACommitterFactory: Using standard FileOutputCommitter to commit work. This is slow and potentially unsafe.\n",
      "                                                                                \r"
     ]
    }
   ],
   "source": [
    "dfEnemTratado.coalesce(1).write.option(\"header\", True).csv(\"s3a://cf-murilo-pi-2022-01-sptech-bucket-tratados/enem\", emptyValue='')"
   ]
  },
  {
   "cell_type": "code",
   "execution_count": 47,
   "metadata": {
    "collapsed": false,
    "pycharm": {
     "name": "#%%\n"
    }
   },
   "outputs": [],
   "source": [
    "# dfEnemTratadoSample = dfEnemTratado.sample(0.1, seed=69420)"
   ]
  },
  {
   "cell_type": "code",
   "execution_count": 48,
   "metadata": {
    "collapsed": false,
    "pycharm": {
     "name": "#%%\n"
    }
   },
   "outputs": [],
   "source": [
    "# dfEnemTratadoSample.coalesce(1).write.option(\"header\", True).csv(\"./tmp/spark_output/datacsv/enem\", emptyValue='')"
   ]
  },
  {
   "cell_type": "code",
   "execution_count": 29,
   "metadata": {
    "collapsed": false,
    "pycharm": {
     "name": "#%%\n"
    }
   },
   "outputs": [
    {
     "name": "stdout",
     "output_type": "stream",
     "text": [
      "-RECORD 0-----------------------------------------------------------------------\n",
      " Ano                                                     | 2019                 \n",
      " Categoria Administrativa                                | Privada com fins ... \n",
      " Código da IES                                           | 1414                 \n",
      " Código da Área                                          | 28                   \n",
      " Código do Curso                                         | 45877                \n",
      " Código do Município                                     | 1100205              \n",
      " IDD (Contínuo)                                          | 3,2835               \n",
      " IDD (Faixa)                                             | 4                    \n",
      " Modalidade de Ensino                                    | Educação Presencial  \n",
      " Município do Curso                                      | Porto Velho          \n",
      " Nome da IES                                             | CENTRO UNIVERSITÁ... \n",
      " Nota Bruta - IDD                                        | 1,1832               \n",
      " Nº de Concluintes Inscritos                             | 30                   \n",
      " Nº de Concluintes Participantes                         | 20                   \n",
      " Nº de Concluintes Participantes com nota no Enem        | 17                   \n",
      " Organização Acadêmica                                   | Centro Universitário \n",
      " Proporção de Concluintes participantes com nota no Enem | 0,85                 \n",
      " Sigla da IES                                            | UniSL                \n",
      " Sigla da UF                                             | Rondonia             \n",
      " Área de Avaliação                                       | NUTRIÇÃO             \n",
      "-RECORD 1-----------------------------------------------------------------------\n",
      " Ano                                                     | 2019                 \n",
      " Categoria Administrativa                                | Privada com fins ... \n",
      " Código da IES                                           | 12758                \n",
      " Código da Área                                          | 6208                 \n",
      " Código do Curso                                         | 1193546              \n",
      " Código do Município                                     | 1100205              \n",
      " IDD (Contínuo)                                          | 2,5135               \n",
      " IDD (Faixa)                                             | 3                    \n",
      " Modalidade de Ensino                                    | Educação Presencial  \n",
      " Município do Curso                                      | Porto Velho          \n",
      " Nome da IES                                             | FACULDADE DE EDUC... \n",
      " Nota Bruta - IDD                                        | 0,0782               \n",
      " Nº de Concluintes Inscritos                             | 14                   \n",
      " Nº de Concluintes Participantes                         | 14                   \n",
      " Nº de Concluintes Participantes com nota no Enem        | 7                    \n",
      " Organização Acadêmica                                   | Faculdade            \n",
      " Proporção de Concluintes participantes com nota no Enem | 0,5                  \n",
      " Sigla da IES                                            | FAEC-PVH             \n",
      " Sigla da UF                                             | Rondonia             \n",
      " Área de Avaliação                                       | ENGENHARIA DE PRO... \n",
      "-RECORD 2-----------------------------------------------------------------------\n",
      " Ano                                                     | 2019                 \n",
      " Categoria Administrativa                                | Privada com fins ... \n",
      " Código da IES                                           | 12758                \n",
      " Código da Área                                          | 5710                 \n",
      " Código do Curso                                         | 1108254              \n",
      " Código do Município                                     | 1100205              \n",
      " IDD (Contínuo)                                          | 2,9682               \n",
      " IDD (Faixa)                                             | 4                    \n",
      " Modalidade de Ensino                                    | Educação Presencial  \n",
      " Município do Curso                                      | Porto Velho          \n",
      " Nome da IES                                             | FACULDADE DE EDUC... \n",
      " Nota Bruta - IDD                                        | 0,5448               \n",
      " Nº de Concluintes Inscritos                             | 47                   \n",
      " Nº de Concluintes Participantes                         | 42                   \n",
      " Nº de Concluintes Participantes com nota no Enem        | 35                   \n",
      " Organização Acadêmica                                   | Faculdade            \n",
      " Proporção de Concluintes participantes com nota no Enem | 0,833333333          \n",
      " Sigla da IES                                            | FAEC-PVH             \n",
      " Sigla da UF                                             | Rondonia             \n",
      " Área de Avaliação                                       | ENGENHARIA CIVIL     \n",
      "-RECORD 3-----------------------------------------------------------------------\n",
      " Ano                                                     | 2019                 \n",
      " Categoria Administrativa                                | Privada sem fins ... \n",
      " Código da IES                                           | 1087                 \n",
      " Código da Área                                          | 5                    \n",
      " Código do Curso                                         | 73753                \n",
      " Código do Município                                     | 1100205              \n",
      " IDD (Contínuo)                                          | 3,015                \n",
      " IDD (Faixa)                                             | 4                    \n",
      " Modalidade de Ensino                                    | Educação Presencial  \n",
      " Município do Curso                                      | Porto Velho          \n",
      " Nome da IES                                             | FACULDADES INTEGR... \n",
      " Nota Bruta - IDD                                        | 0,458                \n",
      " Nº de Concluintes Inscritos                             | 53                   \n",
      " Nº de Concluintes Participantes                         | 51                   \n",
      " Nº de Concluintes Participantes com nota no Enem        | 34                   \n",
      " Organização Acadêmica                                   | Centro Universitário \n",
      " Proporção de Concluintes participantes com nota no Enem | 0,666666667          \n",
      " Sigla da IES                                            | FIMCA                \n",
      " Sigla da UF                                             | Rondonia             \n",
      " Área de Avaliação                                       | MEDICINA VETERINÁRIA \n",
      "-RECORD 4-----------------------------------------------------------------------\n",
      " Ano                                                     | 2019                 \n",
      " Categoria Administrativa                                | Privada sem fins ... \n",
      " Código da IES                                           | 1087                 \n",
      " Código da Área                                          | 19                   \n",
      " Código do Curso                                         | 73755                \n",
      " Código do Município                                     | 1100205              \n",
      " IDD (Contínuo)                                          | 2,3584               \n",
      " IDD (Faixa)                                             | 3                    \n",
      " Modalidade de Ensino                                    | Educação Presencial  \n",
      " Município do Curso                                      | Porto Velho          \n",
      " Nome da IES                                             | FACULDADES INTEGR... \n",
      " Nota Bruta - IDD                                        | -0,2168              \n",
      " Nº de Concluintes Inscritos                             | 59                   \n",
      " Nº de Concluintes Participantes                         | 56                   \n",
      " Nº de Concluintes Participantes com nota no Enem        | 46                   \n",
      " Organização Acadêmica                                   | Centro Universitário \n",
      " Proporção de Concluintes participantes com nota no Enem | 0,821428571          \n",
      " Sigla da IES                                            | FIMCA                \n",
      " Sigla da UF                                             | Rondonia             \n",
      " Área de Avaliação                                       | FARMÁCIA             \n",
      "-RECORD 5-----------------------------------------------------------------------\n",
      " Ano                                                     | 2019                 \n",
      " Categoria Administrativa                                | Privada sem fins ... \n",
      " Código da IES                                           | 1087                 \n",
      " Código da Área                                          | 6                    \n",
      " Código do Curso                                         | 17955                \n",
      " Código do Município                                     | 1100205              \n",
      " IDD (Contínuo)                                          | 3,0712               \n",
      " IDD (Faixa)                                             | 4                    \n",
      " Modalidade de Ensino                                    | Educação Presencial  \n",
      " Município do Curso                                      | Porto Velho          \n",
      " Nome da IES                                             | FACULDADES INTEGR... \n",
      " Nota Bruta - IDD                                        | 0,5612               \n",
      " Nº de Concluintes Inscritos                             | 20                   \n",
      " Nº de Concluintes Participantes                         | 19                   \n",
      " Nº de Concluintes Participantes com nota no Enem        | 11                   \n",
      " Organização Acadêmica                                   | Centro Universitário \n",
      " Proporção de Concluintes participantes com nota no Enem | 0,578947368          \n",
      " Sigla da IES                                            | FIMCA                \n",
      " Sigla da UF                                             | Rondonia             \n",
      " Área de Avaliação                                       | ODONTOLOGIA          \n",
      "-RECORD 6-----------------------------------------------------------------------\n",
      " Ano                                                     | 2019                 \n",
      " Categoria Administrativa                                | Privada sem fins ... \n",
      " Código da IES                                           | 1087                 \n",
      " Código da Área                                          | 17                   \n",
      " Código do Curso                                         | 106830               \n",
      " Código do Município                                     | 1100205              \n",
      " IDD (Contínuo)                                          | 2,7988               \n",
      " IDD (Faixa)                                             | 3                    \n",
      " Modalidade de Ensino                                    | Educação Presencial  \n",
      " Município do Curso                                      | Porto Velho          \n",
      " Nome da IES                                             | FACULDADES INTEGR... \n",
      " Nota Bruta - IDD                                        | 0,0553               \n",
      " Nº de Concluintes Inscritos                             | 55                   \n",
      " Nº de Concluintes Participantes                         | 51                   \n",
      " Nº de Concluintes Participantes com nota no Enem        | 44                   \n",
      " Organização Acadêmica                                   | Centro Universitário \n",
      " Proporção de Concluintes participantes com nota no Enem | 0,862745098          \n",
      " Sigla da IES                                            | FIMCA                \n",
      " Sigla da UF                                             | Rondonia             \n",
      " Área de Avaliação                                       | AGRONOMIA            \n",
      "-RECORD 7-----------------------------------------------------------------------\n",
      " Ano                                                     | 2019                 \n",
      " Categoria Administrativa                                | Privada sem fins ... \n",
      " Código da IES                                           | 1087                 \n",
      " Código da Área                                          | 28                   \n",
      " Código do Curso                                         | 108725               \n",
      " Código do Município                                     | 1100205              \n",
      " IDD (Contínuo)                                          | 2,2012               \n",
      " IDD (Faixa)                                             | 3                    \n",
      " Modalidade de Ensino                                    | Educação Presencial  \n",
      " Município do Curso                                      | Porto Velho          \n",
      " Nome da IES                                             | FACULDADES INTEGR... \n",
      " Nota Bruta - IDD                                        | -0,4101              \n",
      " Nº de Concluintes Inscritos                             | 23                   \n",
      " Nº de Concluintes Participantes                         | 23                   \n",
      " Nº de Concluintes Participantes com nota no Enem        | 18                   \n",
      " Organização Acadêmica                                   | Centro Universitário \n",
      " Proporção de Concluintes participantes com nota no Enem | 0,782608696          \n",
      " Sigla da IES                                            | FIMCA                \n",
      " Sigla da UF                                             | Rondonia             \n",
      " Área de Avaliação                                       | NUTRIÇÃO             \n",
      "-RECORD 8-----------------------------------------------------------------------\n",
      " Ano                                                     | 2019                 \n",
      " Categoria Administrativa                                | Privada sem fins ... \n",
      " Código da IES                                           | 1087                 \n",
      " Código da Área                                          | 55                   \n",
      " Código do Curso                                         | 94221                \n",
      " Código do Município                                     | 1100205              \n",
      " IDD (Contínuo)                                          | 2,4758               \n",
      " IDD (Faixa)                                             | 3                    \n",
      " Modalidade de Ensino                                    | Educação Presencial  \n",
      " Município do Curso                                      | Porto Velho          \n",
      " Nome da IES                                             | FACULDADES INTEGR... \n",
      " Nota Bruta - IDD                                        | 0,1531               \n",
      " Nº de Concluintes Inscritos                             | 41                   \n",
      " Nº de Concluintes Participantes                         | 34                   \n",
      " Nº de Concluintes Participantes com nota no Enem        | 28                   \n",
      " Organização Acadêmica                                   | Centro Universitário \n",
      " Proporção de Concluintes participantes com nota no Enem | 0,823529412          \n",
      " Sigla da IES                                            | FIMCA                \n",
      " Sigla da UF                                             | Rondonia             \n",
      " Área de Avaliação                                       | BIOMEDICINA          \n",
      "-RECORD 9-----------------------------------------------------------------------\n",
      " Ano                                                     | 2019                 \n",
      " Categoria Administrativa                                | Privada sem fins ... \n",
      " Código da IES                                           | 1087                 \n",
      " Código da Área                                          | 36                   \n",
      " Código do Curso                                         | 94223                \n",
      " Código do Município                                     | 1100205              \n",
      " IDD (Contínuo)                                          | 2,4549               \n",
      " IDD (Faixa)                                             | 3                    \n",
      " Modalidade de Ensino                                    | Educação Presencial  \n",
      " Município do Curso                                      | Porto Velho          \n",
      " Nome da IES                                             | FACULDADES INTEGR... \n",
      " Nota Bruta - IDD                                        | -0,2036              \n",
      " Nº de Concluintes Inscritos                             | 32                   \n",
      " Nº de Concluintes Participantes                         | 30                   \n",
      " Nº de Concluintes Participantes com nota no Enem        | 28                   \n",
      " Organização Acadêmica                                   | Centro Universitário \n",
      " Proporção de Concluintes participantes com nota no Enem | 0,933333333          \n",
      " Sigla da IES                                            | FIMCA                \n",
      " Sigla da UF                                             | Rondonia             \n",
      " Área de Avaliação                                       | FISIOTERAPIA         \n",
      "-RECORD 10----------------------------------------------------------------------\n",
      " Ano                                                     | 2019                 \n",
      " Categoria Administrativa                                | Privada sem fins ... \n",
      " Código da IES                                           | 1087                 \n",
      " Código da Área                                          | 12                   \n",
      " Código do Curso                                         | 72675                \n",
      " Código do Município                                     | 1100205              \n",
      " IDD (Contínuo)                                          | 2,0221               \n",
      " IDD (Faixa)                                             | 3                    \n",
      " Modalidade de Ensino                                    | Educação Presencial  \n",
      " Município do Curso                                      | Porto Velho          \n",
      " Nome da IES                                             | FACULDADES INTEGR... \n",
      " Nota Bruta - IDD                                        | -1,1129              \n",
      " Nº de Concluintes Inscritos                             | 84                   \n",
      " Nº de Concluintes Participantes                         | 23                   \n",
      " Nº de Concluintes Participantes com nota no Enem        | 20                   \n",
      " Organização Acadêmica                                   | Centro Universitário \n",
      " Proporção de Concluintes participantes com nota no Enem | 0,869565217          \n",
      " Sigla da IES                                            | FIMCA                \n",
      " Sigla da UF                                             | Rondonia             \n",
      " Área de Avaliação                                       | MEDICINA             \n",
      "-RECORD 11----------------------------------------------------------------------\n",
      " Ano                                                     | 2019                 \n",
      " Categoria Administrativa                                | Privada sem fins ... \n",
      " Código da IES                                           | 1087                 \n",
      " Código da Área                                          | 21                   \n",
      " Código do Curso                                         | 117543               \n",
      " Código do Município                                     | 1100205              \n",
      " IDD (Contínuo)                                          | 2,7306               \n",
      " IDD (Faixa)                                             | 3                    \n",
      " Modalidade de Ensino                                    | Educação Presencial  \n",
      " Município do Curso                                      | Porto Velho          \n",
      " Nome da IES                                             | FACULDADES INTEGR... \n",
      " Nota Bruta - IDD                                        | 0,5612               \n",
      " Nº de Concluintes Inscritos                             | 52                   \n",
      " Nº de Concluintes Participantes                         | 43                   \n",
      " Nº de Concluintes Participantes com nota no Enem        | 34                   \n",
      " Organização Acadêmica                                   | Centro Universitário \n",
      " Proporção de Concluintes participantes com nota no Enem | 0,790697674          \n",
      " Sigla da IES                                            | FIMCA                \n",
      " Sigla da UF                                             | Rondonia             \n",
      " Área de Avaliação                                       | ARQUITETURA E URB... \n",
      "-RECORD 12----------------------------------------------------------------------\n",
      " Ano                                                     | 2019                 \n",
      " Categoria Administrativa                                | Privada sem fins ... \n",
      " Código da IES                                           | 1087                 \n",
      " Código da Área                                          | 27                   \n",
      " Código do Curso                                         | 118868               \n",
      " Código do Município                                     | 1100205              \n",
      " IDD (Contínuo)                                          | 2,8544               \n",
      " IDD (Faixa)                                             | 3                    \n",
      " Modalidade de Ensino                                    | Educação Presencial  \n",
      " Município do Curso                                      | Porto Velho          \n",
      " Nome da IES                                             | FACULDADES INTEGR... \n",
      " Nota Bruta - IDD                                        | 0,818                \n",
      " Nº de Concluintes Inscritos                             | 34                   \n",
      " Nº de Concluintes Participantes                         | 32                   \n",
      " Nº de Concluintes Participantes com nota no Enem        | 25                   \n",
      " Organização Acadêmica                                   | Centro Universitário \n",
      " Proporção de Concluintes participantes com nota no Enem | 0,78125              \n",
      " Sigla da IES                                            | FIMCA                \n",
      " Sigla da UF                                             | Rondonia             \n",
      " Área de Avaliação                                       | FONOAUDIOLOGIA       \n",
      "-RECORD 13----------------------------------------------------------------------\n",
      " Ano                                                     | 2019                 \n",
      " Categoria Administrativa                                | Privada sem fins ... \n",
      " Código da IES                                           | 1087                 \n",
      " Código da Área                                          | 51                   \n",
      " Código do Curso                                         | 109258               \n",
      " Código do Município                                     | 1100205              \n",
      " IDD (Contínuo)                                          | 0,2508               \n",
      " IDD (Faixa)                                             | 1                    \n",
      " Modalidade de Ensino                                    | Educação Presencial  \n",
      " Município do Curso                                      | Porto Velho          \n",
      " Nome da IES                                             | FACULDADES INTEGR... \n",
      " Nota Bruta - IDD                                        | -3,8593              \n",
      " Nº de Concluintes Inscritos                             | 16                   \n",
      " Nº de Concluintes Participantes                         | 15                   \n",
      " Nº de Concluintes Participantes com nota no Enem        | 13                   \n",
      " Organização Acadêmica                                   | Centro Universitário \n",
      " Proporção de Concluintes participantes com nota no Enem | 0,866666667          \n",
      " Sigla da IES                                            | FIMCA                \n",
      " Sigla da UF                                             | Rondonia             \n",
      " Área de Avaliação                                       | ZOOTECNIA            \n",
      "-RECORD 14----------------------------------------------------------------------\n",
      " Ano                                                     | 2019                 \n",
      " Categoria Administrativa                                | Privada sem fins ... \n",
      " Código da IES                                           | 1087                 \n",
      " Código da Área                                          | 91                   \n",
      " Código do Curso                                         | 110636               \n",
      " Código do Município                                     | 1100205              \n",
      " IDD (Contínuo)                                          | 2,58                 \n",
      " IDD (Faixa)                                             | 3                    \n",
      " Modalidade de Ensino                                    | Educação Presencial  \n",
      " Município do Curso                                      | Porto Velho          \n",
      " Nome da IES                                             | FACULDADES INTEGR... \n",
      " Nota Bruta - IDD                                        | -0,8218              \n",
      " Nº de Concluintes Inscritos                             | 8                    \n",
      " Nº de Concluintes Participantes                         | 6                    \n",
      " Nº de Concluintes Participantes com nota no Enem        | 5                    \n",
      " Organização Acadêmica                                   | Centro Universitário \n",
      " Proporção de Concluintes participantes com nota no Enem | 0,833333333          \n",
      " Sigla da IES                                            | FIMCA                \n",
      " Sigla da UF                                             | Rondonia             \n",
      " Área de Avaliação                                       | TECNOLOGIA EM GES... \n",
      "-RECORD 15----------------------------------------------------------------------\n",
      " Ano                                                     | 2019                 \n",
      " Categoria Administrativa                                | Privada sem fins ... \n",
      " Código da IES                                           | 1087                 \n",
      " Código da Área                                          | 23                   \n",
      " Código do Curso                                         | 73751                \n",
      " Código do Município                                     | 1100205              \n",
      " IDD (Contínuo)                                          | 2,4313               \n",
      " IDD (Faixa)                                             | 3                    \n",
      " Modalidade de Ensino                                    | Educação Presencial  \n",
      " Município do Curso                                      | Porto Velho          \n",
      " Nome da IES                                             | FACULDADES INTEGR... \n",
      " Nota Bruta - IDD                                        | -0,1502              \n",
      " Nº de Concluintes Inscritos                             | 39                   \n",
      " Nº de Concluintes Participantes                         | 35                   \n",
      " Nº de Concluintes Participantes com nota no Enem        | 27                   \n",
      " Organização Acadêmica                                   | Centro Universitário \n",
      " Proporção de Concluintes participantes com nota no Enem | 0,771428571          \n",
      " Sigla da IES                                            | FIMCA                \n",
      " Sigla da UF                                             | Rondonia             \n",
      " Área de Avaliação                                       | ENFERMAGEM           \n",
      "-RECORD 16----------------------------------------------------------------------\n",
      " Ano                                                     | 2019                 \n",
      " Categoria Administrativa                                | Privada com fins ... \n",
      " Código da IES                                           | 1738                 \n",
      " Código da Área                                          | 6208                 \n",
      " Código do Curso                                         | 1260525              \n",
      " Código do Município                                     | 1100205              \n",
      " IDD (Contínuo)                                          | 2,0579               \n",
      " IDD (Faixa)                                             | 3                    \n",
      " Modalidade de Ensino                                    | Educação Presencial  \n",
      " Município do Curso                                      | Porto Velho          \n",
      " Nome da IES                                             | Faculdade São Luc... \n",
      " Nota Bruta - IDD                                        | -1,0472              \n",
      " Nº de Concluintes Inscritos                             | 27                   \n",
      " Nº de Concluintes Participantes                         | 19                   \n",
      " Nº de Concluintes Participantes com nota no Enem        | 17                   \n",
      " Organização Acadêmica                                   | Faculdade            \n",
      " Proporção de Concluintes participantes com nota no Enem | 0,894736842          \n",
      " Sigla da IES                                            | FSL                  \n",
      " Sigla da UF                                             | Rondonia             \n",
      " Área de Avaliação                                       | ENGENHARIA DE PRO... \n",
      "-RECORD 17----------------------------------------------------------------------\n",
      " Ano                                                     | 2019                 \n",
      " Categoria Administrativa                                | Privada com fins ... \n",
      " Código da IES                                           | 1738                 \n",
      " Código da Área                                          | 3501                 \n",
      " Código do Curso                                         | 59662                \n",
      " Código do Município                                     | 1100205              \n",
      " IDD (Contínuo)                                          | 3,4985               \n",
      " IDD (Faixa)                                             | 4                    \n",
      " Modalidade de Ensino                                    | Educação Presencial  \n",
      " Município do Curso                                      | Porto Velho          \n",
      " Nome da IES                                             | Faculdade São Luc... \n",
      " Nota Bruta - IDD                                        | 1,9866               \n",
      " Nº de Concluintes Inscritos                             | 35                   \n",
      " Nº de Concluintes Participantes                         | 16                   \n",
      " Nº de Concluintes Participantes com nota no Enem        | 13                   \n",
      " Organização Acadêmica                                   | Faculdade            \n",
      " Proporção de Concluintes participantes com nota no Enem | 0,8125               \n",
      " Sigla da IES                                            | FSL                  \n",
      " Sigla da UF                                             | Rondonia             \n",
      " Área de Avaliação                                       | EDUCAÇÃO FÍSICA (... \n",
      "-RECORD 18----------------------------------------------------------------------\n",
      " Ano                                                     | 2019                 \n",
      " Categoria Administrativa                                | Privada sem fins ... \n",
      " Código da IES                                           | 788                  \n",
      " Código da Área                                          | 5710                 \n",
      " Código do Curso                                         | 68951                \n",
      " Código do Município                                     | 1100205              \n",
      " IDD (Contínuo)                                          | 2,9824               \n",
      " IDD (Faixa)                                             | 4                    \n",
      " Modalidade de Ensino                                    | Educação Presencial  \n",
      " Município do Curso                                      | Porto Velho          \n",
      " Nome da IES                                             | FACULDADE DE ROND... \n",
      " Nota Bruta - IDD                                        | 0,5679               \n",
      " Nº de Concluintes Inscritos                             | 88                   \n",
      " Nº de Concluintes Participantes                         | 86                   \n",
      " Nº de Concluintes Participantes com nota no Enem        | 76                   \n",
      " Organização Acadêmica                                   | Faculdade            \n",
      " Proporção de Concluintes participantes com nota no Enem | 0,88372093           \n",
      " Sigla da IES                                            | FARO                 \n",
      " Sigla da UF                                             | Rondonia             \n",
      " Área de Avaliação                                       | ENGENHARIA CIVIL     \n",
      "-RECORD 19----------------------------------------------------------------------\n",
      " Ano                                                     | 2019                 \n",
      " Categoria Administrativa                                | Privada sem fins ... \n",
      " Código da IES                                           | 788                  \n",
      " Código da Área                                          | 6405                 \n",
      " Código do Curso                                         | 49069                \n",
      " Código do Município                                     | 1100205              \n",
      " IDD (Contínuo)                                          | 1,8356               \n",
      " IDD (Faixa)                                             | 2                    \n",
      " Modalidade de Ensino                                    | Educação Presencial  \n",
      " Município do Curso                                      | Porto Velho          \n",
      " Nome da IES                                             | FACULDADE DE ROND... \n",
      " Nota Bruta - IDD                                        | -0,4147              \n",
      " Nº de Concluintes Inscritos                             | 34                   \n",
      " Nº de Concluintes Participantes                         | 32                   \n",
      " Nº de Concluintes Participantes com nota no Enem        | 20                   \n",
      " Organização Acadêmica                                   | Faculdade            \n",
      " Proporção de Concluintes participantes com nota no Enem | 0,625                \n",
      " Sigla da IES                                            | FARO                 \n",
      " Sigla da UF                                             | Rondonia             \n",
      " Área de Avaliação                                       | ENGENHARIA FLORESTAL \n",
      "only showing top 20 rows\n",
      "\n"
     ]
    }
   ],
   "source": [
    "dfIDD = spark.read.json(\"s3a://cf-murilo-pi-2022-01-sptech-bucket-bruto/IDD_2019.json\", multiLine=True)\n",
    "dfIDD = dfIDD.fillna(0) # This is the number 0\n",
    "dfIDDEstadosTratados = dfIDD.na.replace(to_replace=estados_brasileiros)\n",
    "dfIDDEstadosTratados.show(vertical=True)"
   ]
  },
  {
   "cell_type": "code",
   "execution_count": 30,
   "metadata": {
    "collapsed": false,
    "pycharm": {
     "name": "#%%\n"
    }
   },
   "outputs": [],
   "source": [
    "colunas = dfIDDEstadosTratados.columns\n",
    "novas_colunas = list(map(lambda item: unicodedata.normalize('NFKD', item.replace(\"(\", \"\").replace(\")\", \"\").replace(\"-\",\"\").replace(\n",
    "    \" \", \"_\").upper()).encode('ascii', 'ignore').decode('utf-8', 'ignore'), colunas))\n",
    "dfIDDComNovasColunas = reduce(lambda data, idx: data.withColumnRenamed(colunas[idx], novas_colunas[idx]),\n",
    "                              range(len(colunas)), dfIDDEstadosTratados)"
   ]
  },
  {
   "cell_type": "code",
   "execution_count": 31,
   "metadata": {
    "collapsed": false,
    "pycharm": {
     "name": "#%%\n"
    }
   },
   "outputs": [],
   "source": [
    "dfIDDTratado = dfIDDComNovasColunas.selectExpr(\"IDD_CONTINUO as IDD_Continuo\",\n",
    "                                                           \"IDD_FAIXA as IDD_Faixa\",\n",
    "                                                           \"NOTA_BRUTA__IDD as Nota_Bruta_IDD\",\n",
    "                                                           \"SIGLA_DA_UF as Estado_Curso\",\n",
    "                                                           \"NOME_DA_IES as Instituicao_Ensino\",\n",
    "                                                           \"No_DE_CONCLUINTES_INSCRITOS as Concluintes_Inscritos\",\n",
    "                                                           \"No_DE_CONCLUINTES_PARTICIPANTES as Concluintes_Participantes\",\n",
    "                                                           \"No_DE_CONCLUINTES_PARTICIPANTES_COM_NOTA_NO_ENEM as Concluintes_Participantes_Nota_Enem\",\n",
    "                                                           \"PROPORCAO_DE_CONCLUINTES_PARTICIPANTES_COM_NOTA_NO_ENEM as Prop_Concluintes_Participantes_Nota_Enem_IDD\",\n",
    "                                                           \"AREA_DE_AVALIACAO as Curso\")"
   ]
  },
  {
   "cell_type": "code",
   "execution_count": 14,
   "metadata": {
    "collapsed": false,
    "pycharm": {
     "name": "#%%\n"
    }
   },
   "outputs": [
    {
     "name": "stderr",
     "output_type": "stream",
     "text": [
      "22/06/08 01:32:26 WARN AbstractS3ACommitterFactory: Using standard FileOutputCommitter to commit work. This is slow and potentially unsafe.\n",
      "22/06/08 01:32:27 WARN AbstractS3ACommitterFactory: Using standard FileOutputCommitter to commit work. This is slow and potentially unsafe.\n",
      "                                                                                \r"
     ]
    }
   ],
   "source": [
    "dfIDDTratado.coalesce(1).write.option(\"header\", True).csv(\"s3a://cf-murilo-pi-2022-01-sptech-bucket-tratados/idd\", emptyValue='')\n"
   ]
  }
 ],
 "metadata": {
  "interpreter": {
   "hash": "916dbcbb3f70747c44a77c7bcd40155683ae19c65e1c03b4aa3499c5328201f1"
  },
  "kernelspec": {
   "display_name": "Python 3.7.10 64-bit",
   "language": "python",
   "name": "python3"
  },
  "language_info": {
   "codemirror_mode": {
    "name": "ipython",
    "version": 3
   },
   "file_extension": ".py",
   "mimetype": "text/x-python",
   "name": "python",
   "nbconvert_exporter": "python",
   "pygments_lexer": "ipython3",
   "version": "3.7.10"
  }
 },
 "nbformat": 4,
 "nbformat_minor": 0
}
