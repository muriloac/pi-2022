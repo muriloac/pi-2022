{
 "cells": [
  {
   "cell_type": "code",
   "execution_count": 1,
   "metadata": {
    "collapsed": true,
    "pycharm": {
     "name": "#%%\n"
    }
   },
   "outputs": [],
   "source": [
    "from pyspark import SparkConf\n",
    "from pyspark.sql import SparkSession\n",
    "from pyspark.sql.functions import avg, col, count, when\n",
    "from pyspark.sql.functions import round as rnd"
   ]
  },
  {
   "cell_type": "code",
   "execution_count": 2,
   "metadata": {
    "collapsed": false,
    "pycharm": {
     "name": "#%%\n"
    }
   },
   "outputs": [
    {
     "name": "stderr",
     "output_type": "stream",
     "text": [
      "WARNING: An illegal reflective access operation has occurred\n",
      "WARNING: Illegal reflective access by org.apache.spark.unsafe.Platform (file:/usr/local/lib/python3.7/site-packages/pyspark/jars/spark-unsafe_2.12-3.2.1.jar) to constructor java.nio.DirectByteBuffer(long,int)\n",
      "WARNING: Please consider reporting this to the maintainers of org.apache.spark.unsafe.Platform\n",
      "WARNING: Use --illegal-access=warn to enable warnings of further illegal reflective access operations\n",
      "WARNING: All illegal access operations will be denied in a future release\n"
     ]
    },
    {
     "name": "stdout",
     "output_type": "stream",
     "text": [
      ":: loading settings :: url = jar:file:/usr/local/lib/python3.7/site-packages/pyspark/jars/ivy-2.5.0.jar!/org/apache/ivy/core/settings/ivysettings.xml\n"
     ]
    },
    {
     "name": "stderr",
     "output_type": "stream",
     "text": [
      "Ivy Default Cache set to: /home/ec2-user/.ivy2/cache\n",
      "The jars for the packages stored in: /home/ec2-user/.ivy2/jars\n",
      "org.apache.hadoop#hadoop-aws added as a dependency\n",
      "com.microsoft.azure#spark-mssql-connector_2.12 added as a dependency\n",
      ":: resolving dependencies :: org.apache.spark#spark-submit-parent-a09bab07-36b2-4923-9c62-9163a6709c77;1.0\n",
      "\tconfs: [default]\n",
      "\tfound org.apache.hadoop#hadoop-aws;3.2.2 in central\n",
      "\tfound com.amazonaws#aws-java-sdk-bundle;1.11.563 in central\n",
      "\tfound com.microsoft.azure#spark-mssql-connector_2.12;1.2.0 in central\n",
      "\tfound com.microsoft.sqlserver#mssql-jdbc;8.4.1.jre8 in central\n",
      ":: resolution report :: resolve 508ms :: artifacts dl 23ms\n",
      "\t:: modules in use:\n",
      "\tcom.amazonaws#aws-java-sdk-bundle;1.11.563 from central in [default]\n",
      "\tcom.microsoft.azure#spark-mssql-connector_2.12;1.2.0 from central in [default]\n",
      "\tcom.microsoft.sqlserver#mssql-jdbc;8.4.1.jre8 from central in [default]\n",
      "\torg.apache.hadoop#hadoop-aws;3.2.2 from central in [default]\n",
      "\t---------------------------------------------------------------------\n",
      "\t|                  |            modules            ||   artifacts   |\n",
      "\t|       conf       | number| search|dwnlded|evicted|| number|dwnlded|\n",
      "\t---------------------------------------------------------------------\n",
      "\t|      default     |   4   |   0   |   0   |   0   ||   4   |   0   |\n",
      "\t---------------------------------------------------------------------\n",
      ":: retrieving :: org.apache.spark#spark-submit-parent-a09bab07-36b2-4923-9c62-9163a6709c77\n",
      "\tconfs: [default]\n",
      "\t0 artifacts copied, 4 already retrieved (0kB/13ms)\n",
      "22/06/08 01:57:59 WARN NativeCodeLoader: Unable to load native-hadoop library for your platform... using builtin-java classes where applicable\n",
      "Using Spark's default log4j profile: org/apache/spark/log4j-defaults.properties\n",
      "Setting default log level to \"WARN\".\n",
      "To adjust logging level use sc.setLogLevel(newLevel). For SparkR, use setLogLevel(newLevel).\n"
     ]
    }
   ],
   "source": [
    "conf = SparkConf()\n",
    "conf.set('spark.jars.packages', 'org.apache.hadoop:hadoop-aws:3.2.2')\n",
    "conf.set('spark.jars.packages', 'org.apache.hadoop:hadoop-aws:3.2.2,com.microsoft.azure:spark-mssql-connector_2.12:1.2.0')\n",
    "conf.set('spark.hadoop.fs.s3a.aws.credentials.provider', 'com.amazonaws.auth.InstanceProfileCredentialsProvider')\n",
    "spark = SparkSession.builder.config(conf=conf).getOrCreate()"
   ]
  },
  {
   "cell_type": "code",
   "execution_count": 3,
   "metadata": {
    "collapsed": false,
    "pycharm": {
     "name": "#%%\n"
    }
   },
   "outputs": [
    {
     "name": "stderr",
     "output_type": "stream",
     "text": [
      "22/06/08 01:58:09 WARN MetricsConfig: Cannot locate configuration: tried hadoop-metrics2-s3a-file-system.properties,hadoop-metrics2.properties\n",
      "                                                                                \r"
     ]
    },
    {
     "data": {
      "text/plain": [
       "['Tweets', 'len', 'ID', 'Date', 'Geo', 'Source', 'SA', 'Estado', 'Coordenadas']"
      ]
     },
     "execution_count": 3,
     "metadata": {},
     "output_type": "execute_result"
    }
   ],
   "source": [
    "dfTweets = spark.read.csv(\"s3a://cf-murilo-pi-2022-01-sptech-bucket-tratados/tweets/tweets-tratados.csv\", header=True,\n",
    "                          inferSchema=True)\n",
    "dfTweets.columns"
   ]
  },
  {
   "cell_type": "code",
   "execution_count": 4,
   "metadata": {
    "collapsed": false,
    "pycharm": {
     "name": "#%%\n"
    }
   },
   "outputs": [
    {
     "data": {
      "text/plain": [
       "['IDD_Continuo',\n",
       " 'IDD_Faixa',\n",
       " 'Nota_Bruta_IDD',\n",
       " 'Estado_Curso',\n",
       " 'Instituicao_Ensino',\n",
       " 'Concluintes_Inscritos',\n",
       " 'Concluintes_Participantes',\n",
       " 'Concluintes_Participantes_Nota_Enem',\n",
       " 'Prop_Concluintes_Participantes_Nota_Enem_IDD',\n",
       " 'Curso']"
      ]
     },
     "execution_count": 4,
     "metadata": {},
     "output_type": "execute_result"
    }
   ],
   "source": [
    "dfIDD = spark.read.csv(\"s3a://cf-murilo-pi-2022-01-sptech-bucket-tratados/idd/idd-tratados.csv\", header=True,\n",
    "                       inferSchema=True)\n",
    "dfIDD.columns"
   ]
  },
  {
   "cell_type": "code",
   "execution_count": 5,
   "metadata": {
    "collapsed": false,
    "pycharm": {
     "name": "#%%\n"
    }
   },
   "outputs": [
    {
     "name": "stderr",
     "output_type": "stream",
     "text": [
      "                                                                                \r"
     ]
    },
    {
     "data": {
      "text/plain": [
       "['Treineiro',\n",
       " 'Estado',\n",
       " 'Presenca_CN',\n",
       " 'Presenca_CH',\n",
       " 'Presenca_LC',\n",
       " 'Presenca_MT',\n",
       " 'Nota_CN',\n",
       " 'Nota_CH',\n",
       " 'Nota_LC',\n",
       " 'Nota_MT',\n",
       " 'Status_Redacao',\n",
       " 'Nota_Redacao']"
      ]
     },
     "execution_count": 5,
     "metadata": {},
     "output_type": "execute_result"
    }
   ],
   "source": [
    "dfEnem = spark.read.csv(\"s3a://cf-murilo-pi-2022-01-sptech-bucket-tratados/enem/enem-tratados.csv\", header=True,\n",
    "                        inferSchema=True)\n",
    "dfEnem.columns"
   ]
  },
  {
   "cell_type": "code",
   "execution_count": 6,
   "metadata": {
    "collapsed": false,
    "pycharm": {
     "name": "#%%\n"
    }
   },
   "outputs": [],
   "source": [
    "dfEnemMediaNotaEstado = dfEnem.filter((dfEnem['Status_Redacao'] == 1) & (dfEnem['Presenca_CN'] == 1) & (dfEnem['Presenca_CH'] == 1) & (dfEnem['Presenca_LC'] == 1) & (dfEnem['Presenca_MT'] == 1)).groupby(\"Estado\").agg(\n",
    "    rnd(avg(col(\"Nota_CN\")), 2).alias(\"Nota Ciências Naturais\"),\n",
    "    rnd(avg(col(\"Nota_CH\")), 2).alias(\"Nota Ciências Humanas\"),\n",
    "    rnd(avg(col(\"Nota_LC\")), 2).alias(\"Nota Linguagens e Códigos\"),\n",
    "    rnd(avg(col(\"Nota_MT\")), 2).alias(\"Nota Matemática\"),\n",
    "    rnd(avg(col(\"Nota_Redacao\")), 2).alias(\"Nota Redação\"),\n",
    "    count(when(col(\"Treineiro\") == 1, True)).alias(\"Treineiros\"),\n",
    "    count(when(col(\"Treineiro\") == 0, True)).alias(\"Não Treineiros\"))"
   ]
  },
  {
   "cell_type": "code",
   "execution_count": 7,
   "metadata": {
    "collapsed": false,
    "pycharm": {
     "name": "#%%\n"
    }
   },
   "outputs": [],
   "source": [
    "dfIddMediaEstado = dfIDD.groupby(col(\"Estado_Curso\").alias(\"Estado\")).agg(\n",
    "    rnd(avg(col(\"IDD_Continuo\")), 2).alias(\"IDD Continuo\"),\n",
    "    rnd(avg(col(\"IDD_Faixa\")), 2).alias(\"IDD Faixa\"),\n",
    "    rnd(avg(col(\"Concluintes_Inscritos\")), 2).alias(\"Concluintes Inscritos\"),\n",
    "    rnd(avg(col(\"Concluintes_Participantes\")), 2).alias(\"Concluintes Participantes\"),\n",
    "    rnd(avg(col(\"Concluintes_Participantes_Nota_Enem\")), 2).alias(\"Concluintes Participantes Nota Enem\"),\n",
    "    rnd(avg(col(\"Prop_Concluintes_Participantes_Nota_Enem_IDD\")), 2).alias(\n",
    "        \"Prop Concluintes Participantes Nota Enem IDD\"))"
   ]
  },
  {
   "cell_type": "code",
   "execution_count": 8,
   "metadata": {
    "collapsed": false,
    "pycharm": {
     "name": "#%%\n"
    }
   },
   "outputs": [],
   "source": [
    "dfTweetsSAEstado = dfTweets.groupby(\"Estado\").agg(\n",
    "    count(when(col(\"SA\") > 0, True)).alias(\"Tweets Positivos\"),\n",
    "    count(when(col(\"SA\") < 0, True)).alias(\"Tweets Negativos\"),\n",
    "    count(when(col(\"SA\") == 0, True)).alias(\"Tweets Neutros\"))"
   ]
  },
  {
   "cell_type": "code",
   "execution_count": 9,
   "metadata": {
    "collapsed": false,
    "pycharm": {
     "name": "#%%\n"
    }
   },
   "outputs": [],
   "source": [
    "dfInnerJoin = dfEnemMediaNotaEstado.join(dfIddMediaEstado, on=\"Estado\", how=\"inner\").join(\n",
    "    dfTweetsSAEstado, on=\"Estado\", how=\"outer\")"
   ]
  },
  {
   "cell_type": "code",
   "execution_count": 10,
   "metadata": {
    "collapsed": false,
    "pycharm": {
     "name": "#%%\n"
    }
   },
   "outputs": [
    {
     "name": "stderr",
     "output_type": "stream",
     "text": [
      "                                                                                \r"
     ]
    },
    {
     "data": {
      "text/plain": [
       "29"
      ]
     },
     "execution_count": 10,
     "metadata": {},
     "output_type": "execute_result"
    }
   ],
   "source": [
    "dfInnerJoin.count()\n"
   ]
  },
  {
   "cell_type": "code",
   "execution_count": 11,
   "metadata": {},
   "outputs": [
    {
     "name": "stderr",
     "output_type": "stream",
     "text": [
      "22/06/08 01:58:53 WARN AbstractS3ACommitterFactory: Using standard FileOutputCommitter to commit work. This is slow and potentially unsafe.\n",
      "22/06/08 01:58:58 WARN AbstractS3ACommitterFactory: Using standard FileOutputCommitter to commit work. This is slow and potentially unsafe.\n",
      "                                                                                \r"
     ]
    }
   ],
   "source": [
    "dfInnerJoin.coalesce(1).write.option(\"header\", True).csv(\"s3a://cf-murilo-pi-2022-01-sptech-bucket-cliente/dados\", emptyValue='')"
   ]
  },
  {
   "cell_type": "code",
   "execution_count": 13,
   "metadata": {},
   "outputs": [
    {
     "name": "stderr",
     "output_type": "stream",
     "text": [
      "                                                                                \r"
     ]
    }
   ],
   "source": [
    "dfInnerJoin.write \\\n",
    " .format('com.microsoft.sqlserver.jdbc.spark') \\\n",
    " .mode('overwrite') \\\n",
    " .option('driver', 'com.microsoft.sqlserver.jdbc.SQLServerDriver') \\\n",
    " .option('url', 'jdbc:sqlserver://bancopi-murilo.database.windows.net;databaseName=banco-pi;') \\\n",
    " .option('dbtable', 'dbo.Dados') \\\n",
    " .option('user', 'MuriloAC') \\\n",
    " .option('password', 'Urubu@100') \\\n",
    " .save()"
   ]
  }
 ],
 "metadata": {
  "interpreter": {
   "hash": "916dbcbb3f70747c44a77c7bcd40155683ae19c65e1c03b4aa3499c5328201f1"
  },
  "kernelspec": {
   "display_name": "Python 3.7.10 64-bit",
   "language": "python",
   "name": "python3"
  },
  "language_info": {
   "codemirror_mode": {
    "name": "ipython",
    "version": 3
   },
   "file_extension": ".py",
   "mimetype": "text/x-python",
   "name": "python",
   "nbconvert_exporter": "python",
   "pygments_lexer": "ipython3",
   "version": "3.7.10"
  }
 },
 "nbformat": 4,
 "nbformat_minor": 0
}
