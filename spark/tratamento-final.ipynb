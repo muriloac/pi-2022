{
 "cells": [
  {
   "cell_type": "code",
   "execution_count": 1,
   "metadata": {
    "collapsed": true,
    "pycharm": {
     "name": "#%%\n"
    }
   },
   "outputs": [],
   "source": [
    "from pyspark import SparkConf\n",
    "from pyspark.sql import SparkSession\n",
    "from pyspark.sql.functions import avg, col, count, when\n",
    "from pyspark.sql.functions import round as rnd"
   ]
  },
  {
   "cell_type": "code",
   "execution_count": 2,
   "outputs": [],
   "source": [
    "conf = SparkConf()\n",
    "spark = SparkSession.builder.config(conf=conf).getOrCreate()"
   ],
   "metadata": {
    "collapsed": false,
    "pycharm": {
     "name": "#%%\n"
    }
   }
  },
  {
   "cell_type": "code",
   "execution_count": 3,
   "outputs": [
    {
     "data": {
      "text/plain": "['Tweets', 'len', 'ID', 'Date', 'Geo', 'Source', 'SA', 'Estado', 'Coordenadas']"
     },
     "execution_count": 3,
     "metadata": {},
     "output_type": "execute_result"
    }
   ],
   "source": [
    "dfTweets = spark.read.csv(\"./tmp/spark_output/datacsv/tweets/tweets-tratado.csv\", header=True,\n",
    "                          inferSchema=True)\n",
    "dfTweets.columns"
   ],
   "metadata": {
    "collapsed": false,
    "pycharm": {
     "name": "#%%\n"
    }
   }
  },
  {
   "cell_type": "code",
   "execution_count": 49,
   "outputs": [
    {
     "data": {
      "text/plain": "['IDD_Continuo',\n 'IDD_Faixa',\n 'Nota_Bruta_IDD',\n 'Estado_Curso',\n 'Instituicao_Ensino',\n 'Concluintes_Inscritos',\n 'Concluintes_Participantes',\n 'Concluintes_Participantes_Nota_Enem',\n 'Prop_Concluintes_Participantes_Nota_Enem_IDD',\n 'Curso']"
     },
     "execution_count": 49,
     "metadata": {},
     "output_type": "execute_result"
    }
   ],
   "source": [
    "dfIDD = spark.read.csv(\"./tmp/spark_output/datacsv/idd/idd-tratado.csv\", header=True,\n",
    "                       inferSchema=True)\n",
    "dfIDD.columns"
   ],
   "metadata": {
    "collapsed": false,
    "pycharm": {
     "name": "#%%\n"
    }
   }
  },
  {
   "cell_type": "code",
   "execution_count": 13,
   "outputs": [
    {
     "data": {
      "text/plain": "['Treineiro',\n 'Estado',\n 'Presenca_CN',\n 'Presenca_CH',\n 'Presenca_LC',\n 'Presenca_MT',\n 'Nota_CN',\n 'Nota_CH',\n 'Nota_LC',\n 'Nota_MT',\n 'Status_Redacao',\n 'Nota_Redacao']"
     },
     "execution_count": 13,
     "metadata": {},
     "output_type": "execute_result"
    }
   ],
   "source": [
    "dfEnem = spark.read.csv(\"./tmp/spark_output/datacsv/enem/enem-tratado-sample.csv\", header=True,\n",
    "                        inferSchema=True)\n",
    "dfEnem.columns"
   ],
   "metadata": {
    "collapsed": false,
    "pycharm": {
     "name": "#%%\n"
    }
   }
  },
  {
   "cell_type": "code",
   "execution_count": 71,
   "outputs": [],
   "source": [
    "dfEnemMediaNotaEstado = dfEnem.filter((dfEnem['Status_Redacao'] == 1) & (dfEnem['Presenca_CN'] == 1) & (dfEnem['Presenca_CH'] == 1) & (dfEnem['Presenca_LC'] == 1) & (dfEnem['Presenca_MT'] == 1)).groupby(\"Estado\").agg(\n",
    "    rnd(avg(col(\"Nota_CN\")), 2).alias(\"Nota Ciências Naturais\"),\n",
    "    rnd(avg(col(\"Nota_CH\")), 2).alias(\"Nota Ciências Humanas\"),\n",
    "    rnd(avg(col(\"Nota_LC\")), 2).alias(\"Nota Linguagens e Códigos\"),\n",
    "    rnd(avg(col(\"Nota_MT\")), 2).alias(\"Nota Matemática\"),\n",
    "    rnd(avg(col(\"Nota_Redacao\")), 2).alias(\"Nota Redação\"),\n",
    "    count(when(col(\"Treineiro\") == 1, True)).alias(\"Treineiros\"),\n",
    "    count(when(col(\"Treineiro\") == 0, True)).alias(\"Não Treineiros\"))"
   ],
   "metadata": {
    "collapsed": false,
    "pycharm": {
     "name": "#%%\n"
    }
   }
  },
  {
   "cell_type": "code",
   "execution_count": 64,
   "outputs": [],
   "source": [
    "dfIddMediaEstado = dfIDD.groupby(col(\"Estado_Curso\").alias(\"Estado\")).agg(\n",
    "    rnd(avg(col(\"IDD_Continuo\")), 2).alias(\"IDD Continuo\"),\n",
    "    rnd(avg(col(\"IDD_Faixa\")), 2).alias(\"IDD Faixa\"),\n",
    "    rnd(avg(col(\"Concluintes_Inscritos\")), 2).alias(\"Concluintes Inscritos\"),\n",
    "    rnd(avg(col(\"Concluintes_Participantes\")), 2).alias(\"Concluintes Participantes\"),\n",
    "    rnd(avg(col(\"Concluintes_Participantes_Nota_Enem\")), 2).alias(\"Concluintes Participantes Nota Enem\"),\n",
    "    rnd(avg(col(\"Prop_Concluintes_Participantes_Nota_Enem_IDD\")), 2).alias(\n",
    "        \"Prop Concluintes Participantes Nota Enem IDD\"))"
   ],
   "metadata": {
    "collapsed": false,
    "pycharm": {
     "name": "#%%\n"
    }
   }
  },
  {
   "cell_type": "code",
   "execution_count": 61,
   "outputs": [],
   "source": [
    "dfTweetsSAEstado = dfTweets.groupby(\"Estado\").agg(\n",
    "    count(when(col(\"SA\") > 0, True)).alias(\"Tweets Positivos\"),\n",
    "    count(when(col(\"SA\") < 0, True)).alias(\"Tweets Negativos\"),\n",
    "    count(when(col(\"SA\") == 0, True)).alias(\"Tweets Neutros\"))"
   ],
   "metadata": {
    "collapsed": false,
    "pycharm": {
     "name": "#%%\n"
    }
   }
  },
  {
   "cell_type": "code",
   "execution_count": 66,
   "outputs": [],
   "source": [
    "dfInnerJoin = dfEnemMediaNotaEstado.join(dfIddMediaEstado, on=\"Estado\", how=\"inner\").join(\n",
    "    dfTweetsSAEstado, on=\"Estado\", how=\"inner\")"
   ],
   "metadata": {
    "collapsed": false,
    "pycharm": {
     "name": "#%%\n"
    }
   }
  },
  {
   "cell_type": "code",
   "execution_count": 68,
   "outputs": [
    {
     "name": "stdout",
     "output_type": "stream",
     "text": [
      "-RECORD 0---------------------------------------------------------\n",
      " Estado                                       | Ceará             \n",
      " Nota Ciências Naturais                       | 471.16            \n",
      " Nota Ciências Humanas                        | 500.96            \n",
      " Nota Linguagens e Códigos                    | 515.45            \n",
      " Nota Matemática                              | 521.48            \n",
      " Nota Redação                                 | 597.87            \n",
      " Treineiros                                   | 3645              \n",
      " Não Treineiros                               | 18124             \n",
      " IDD Continuo                                 | 3.33              \n",
      " IDD Faixa                                    | 3.22              \n",
      " Concluintes Inscritos                        | 72.93             \n",
      " Concluintes Participantes                    | 65.74             \n",
      " Concluintes Participantes Nota Enem          | 52.7              \n",
      " Prop Concluintes Participantes Nota Enem IDD | 0.83              \n",
      " Tweets Positivos                             | 1                 \n",
      " Tweets Negativos                             | 0                 \n",
      " Tweets Neutros                               | 0                 \n",
      "-RECORD 1---------------------------------------------------------\n",
      " Estado                                       | Bahia             \n",
      " Nota Ciências Naturais                       | 466.78            \n",
      " Nota Ciências Humanas                        | 496.8             \n",
      " Nota Linguagens e Códigos                    | 512.01            \n",
      " Nota Matemática                              | 503.89            \n",
      " Nota Redação                                 | 581.0             \n",
      " Treineiros                                   | 4034              \n",
      " Não Treineiros                               | 25131             \n",
      " IDD Continuo                                 | 2.69              \n",
      " IDD Faixa                                    | 3.07              \n",
      " Concluintes Inscritos                        | 43.88             \n",
      " Concluintes Participantes                    | 39.96             \n",
      " Concluintes Participantes Nota Enem          | 31.82             \n",
      " Prop Concluintes Participantes Nota Enem IDD | 0.89              \n",
      " Tweets Positivos                             | 2                 \n",
      " Tweets Negativos                             | 1                 \n",
      " Tweets Neutros                               | 0                 \n",
      "-RECORD 2---------------------------------------------------------\n",
      " Estado                                       | Rio Grande do Sul \n",
      " Nota Ciências Naturais                       | 487.16            \n",
      " Nota Ciências Humanas                        | 525.51            \n",
      " Nota Linguagens e Códigos                    | 535.95            \n",
      " Nota Matemática                              | 541.09            \n",
      " Nota Redação                                 | 594.86            \n",
      " Treineiros                                   | 2280              \n",
      " Não Treineiros                               | 13899             \n",
      " IDD Continuo                                 | 4.67              \n",
      " IDD Faixa                                    | 3.24              \n",
      " Concluintes Inscritos                        | 38.71             \n",
      " Concluintes Participantes                    | 36.46             \n",
      " Concluintes Participantes Nota Enem          | 28.0              \n",
      " Prop Concluintes Participantes Nota Enem IDD | 0.82              \n",
      " Tweets Positivos                             | 1                 \n",
      " Tweets Negativos                             | 1                 \n",
      " Tweets Neutros                               | 0                 \n",
      "-RECORD 3---------------------------------------------------------\n",
      " Estado                                       | São Paulo         \n",
      " Nota Ciências Naturais                       | 498.37            \n",
      " Nota Ciências Humanas                        | 529.77            \n",
      " Nota Linguagens e Códigos                    | 541.71            \n",
      " Nota Matemática                              | 553.3             \n",
      " Nota Redação                                 | 601.94            \n",
      " Treineiros                                   | 8584              \n",
      " Não Treineiros                               | 52340             \n",
      " IDD Continuo                                 | 2.24              \n",
      " IDD Faixa                                    | 3.0               \n",
      " Concluintes Inscritos                        | 53.38             \n",
      " Concluintes Participantes                    | 46.92             \n",
      " Concluintes Participantes Nota Enem          | 31.44             \n",
      " Prop Concluintes Participantes Nota Enem IDD | 0.67              \n",
      " Tweets Positivos                             | 1                 \n",
      " Tweets Negativos                             | 0                 \n",
      " Tweets Neutros                               | 0                 \n",
      "\n"
     ]
    }
   ],
   "source": [
    "dfInnerJoin.show(vertical=True)\n"
   ],
   "metadata": {
    "collapsed": false,
    "pycharm": {
     "name": "#%%\n"
    }
   }
  }
 ],
 "metadata": {
  "kernelspec": {
   "display_name": "Python 3",
   "language": "python",
   "name": "python3"
  },
  "language_info": {
   "codemirror_mode": {
    "name": "ipython",
    "version": 2
   },
   "file_extension": ".py",
   "mimetype": "text/x-python",
   "name": "python",
   "nbconvert_exporter": "python",
   "pygments_lexer": "ipython2",
   "version": "2.7.6"
  }
 },
 "nbformat": 4,
 "nbformat_minor": 0
}